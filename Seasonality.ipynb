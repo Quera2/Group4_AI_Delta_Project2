{
 "cells": [
  {
   "cell_type": "code",
   "execution_count": null,
   "id": "80e1ce24",
   "metadata": {},
   "outputs": [],
   "source": [
    "data['reviewTime'] = pd.to_datetime(data['reviewTime'])\n",
    "data['month'] = data['reviewTime'].dt.month\n",
    "data['season'] = np.where((data['month'] >= 3) & (data['month'] <= 5), 'Spring',\n",
    "                        np.where((data['month'] >= 6) & (data['month'] <= 8), 'Summer',\n",
    "                                 np.where((data['month'] >= 9) & (data['month'] <= 11), 'Autumn', 'Winter')))\n",
    "\n",
    "seasonal_sentiment = data.groupby('season')['overall'].mean()\n",
    "seasons = ['Spring', 'Summer', 'Fall', 'Winter']\n",
    "for i in range(len(seasons)):\n",
    "    for j in range(i + 1, len(seasons)):\n",
    "        spring_sentiment = data[data['season'] == seasons[i]]['overall']\n",
    "        summer_sentiment = data[data['season'] == seasons[j]]['overall']\n",
    "        t_stat, p_val = ttest_ind(spring_sentiment, summer_sentiment)\n",
    "        print(f'Comparing {seasons[i]} and {seasons[j]}:')\n",
    "        print(f'T-statistic: {t_stat:.4f}, p-value: {p_val:.4f}')\n",
    "        if p_val < 0.05:\n",
    "            print('The mean sentiment scores are significantly different between seasons.')\n",
    "        else:\n",
    "            print('The mean sentiment scores are not significantly different between seasons.')\n",
    "        print('')\n",
    "\n",
    "plt.figure(figsize=(10, 6))\n",
    "sns.barplot(x=seasonal_sentiment.index, y=seasonal_sentiment.values)\n",
    "plt.xlabel('Season')\n",
    "plt.ylabel('Mean Sentiment Score')\n",
    "plt.title('Seasonal Sentiment Analysis')\n",
    "plt.show()"
   ]
  }
 ],
 "metadata": {
  "kernelspec": {
   "display_name": "Python 3 (ipykernel)",
   "language": "python",
   "name": "python3"
  },
  "language_info": {
   "codemirror_mode": {
    "name": "ipython",
    "version": 3
   },
   "file_extension": ".py",
   "mimetype": "text/x-python",
   "name": "python",
   "nbconvert_exporter": "python",
   "pygments_lexer": "ipython3",
   "version": "3.11.4"
  }
 },
 "nbformat": 4,
 "nbformat_minor": 5
}
