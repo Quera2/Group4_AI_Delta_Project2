{
  "cells": [
    {
      "cell_type": "code",
      "execution_count": 15,
      "metadata": {},
      "outputs": [],
      "source": [
        "# baked_potato\n",
        "import os\n",
        "import pandas as pd\n",
        "from PIL import Image\n",
        "import io\n",
        "import numpy as np\n",
        "# path to destination folder\n",
        "folder_path = 'all data'\n",
        "# data we want to makw a dataframe from it\n",
        "data = []\n",
        "# label of pics\n",
        "label = np . array(['baked_potato' , 'baklava' , 'caesar_salad' , 'cheesecake', 'cheese_sandwich' , 'chicken' , 'chicken_curry' , 'chocolate_cake' , 'donuts' , 'eggs' , 'falafel' , 'fish',\n",
        "        'french_fries' , 'hamburger' , 'hot_dog' , 'ice_cream' , 'lasagna' , 'omelette' , 'pizza' , 'spaghetti' , 'steak' , 'sushi'])\n",
        "# go throught the list and give photo and it's name\n",
        "i = -1\n",
        "for filename in os . listdir(folder_path):\n",
        "    i += 1\n",
        "    if filename . endswith(\".jpg\") or filename . endswith(\".png\"):  # Add more extensions if needed\n",
        "        # Full path to the image\n",
        "        img_path = os . path . join(folder_path, filename)\n",
        "        # Open the image\n",
        "        with open(img_path, 'rb') as img_file:\n",
        "            img = img_file . read()\n",
        "        # append each item into the dataframe\n",
        "        data . append((filename, img , label[i]))\n",
        "# final\n",
        "# make dataframe\n",
        "df1 = pd . DataFrame(data, columns = ['Photo_Name', 'Photo' , 'Label'])"
      ]
    },
    {
      "cell_type": "code",
      "execution_count": 18,
      "metadata": {},
      "outputs": [],
      "source": [
        "df1 . to_csv('all_category_data.csv' , index = False)"
      ]
    }
  ],
  "metadata": {
    "colab": {
      "provenance": []
    },
    "kernelspec": {
      "display_name": "Python 3",
      "language": "python",
      "name": "python3"
    },
    "language_info": {
      "codemirror_mode": {
        "name": "ipython",
        "version": 3
      },
      "file_extension": ".py",
      "mimetype": "text/x-python",
      "name": "python",
      "nbconvert_exporter": "python",
      "pygments_lexer": "ipython3",
      "version": "3.11.3"
    }
  },
  "nbformat": 4,
  "nbformat_minor": 0
}
