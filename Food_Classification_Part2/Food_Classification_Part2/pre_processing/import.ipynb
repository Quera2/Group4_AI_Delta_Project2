{
  "nbformat": 4,
  "nbformat_minor": 0,
  "metadata": {
    "colab": {
      "provenance": []
    },
    "kernelspec": {
      "name": "python3",
      "display_name": "Python 3"
    },
    "language_info": {
      "name": "python"
    }
  },
  "cells": [
    {
      "cell_type": "code",
      "execution_count": 1,
      "metadata": {
        "colab": {
          "base_uri": "https://localhost:8080/"
        },
        "id": "_nZV-DTOmZw8",
        "outputId": "812c4765-a8e8-4ba2-c201-1fbcc144b3bb"
      },
      "outputs": [
        {
          "output_type": "stream",
          "name": "stdout",
          "text": [
            "Requirement already satisfied: gdown in /usr/local/lib/python3.10/dist-packages (5.1.0)\n",
            "Requirement already satisfied: beautifulsoup4 in /usr/local/lib/python3.10/dist-packages (from gdown) (4.12.3)\n",
            "Requirement already satisfied: filelock in /usr/local/lib/python3.10/dist-packages (from gdown) (3.15.4)\n",
            "Requirement already satisfied: requests[socks] in /usr/local/lib/python3.10/dist-packages (from gdown) (2.31.0)\n",
            "Requirement already satisfied: tqdm in /usr/local/lib/python3.10/dist-packages (from gdown) (4.66.4)\n",
            "Requirement already satisfied: soupsieve>1.2 in /usr/local/lib/python3.10/dist-packages (from beautifulsoup4->gdown) (2.5)\n",
            "Requirement already satisfied: charset-normalizer<4,>=2 in /usr/local/lib/python3.10/dist-packages (from requests[socks]->gdown) (3.3.2)\n",
            "Requirement already satisfied: idna<4,>=2.5 in /usr/local/lib/python3.10/dist-packages (from requests[socks]->gdown) (3.7)\n",
            "Requirement already satisfied: urllib3<3,>=1.21.1 in /usr/local/lib/python3.10/dist-packages (from requests[socks]->gdown) (2.0.7)\n",
            "Requirement already satisfied: certifi>=2017.4.17 in /usr/local/lib/python3.10/dist-packages (from requests[socks]->gdown) (2024.7.4)\n",
            "Requirement already satisfied: PySocks!=1.5.7,>=1.5.6 in /usr/local/lib/python3.10/dist-packages (from requests[socks]->gdown) (1.7.1)\n"
          ]
        },
        {
          "output_type": "stream",
          "name": "stderr",
          "text": [
            "Downloading...\n",
            "From (original): https://drive.google.com/uc?id=15CHt2ueS4c7emHpmzFHC3c0TGd51Mnvz\n",
            "From (redirected): https://drive.google.com/uc?id=15CHt2ueS4c7emHpmzFHC3c0TGd51Mnvz&confirm=t&uuid=da32c8da-3d82-40ef-ba5e-8098d552e4cb\n",
            "To: /content/train.zip\n",
            "100%|██████████| 898M/898M [00:15<00:00, 56.8MB/s]\n"
          ]
        },
        {
          "output_type": "stream",
          "name": "stdout",
          "text": [
            "Loading images from folder: train\n",
            "Category: train, Number of images: 0\n"
          ]
        }
      ],
      "source": [
        "!pip install gdown\n",
        "import gdown\n",
        "\n",
        "# # a file\n",
        "# # same as the above, and you can copy-and-paste a URL from Google Drive with fuzzy=True\n",
        "url = \"https://drive.google.com/file/d/15CHt2ueS4c7emHpmzFHC3c0TGd51Mnvz/view\"\n",
        "output='/content/train.zip'\n",
        "gdown.download(url=url, output=output, fuzzy=True)\n",
        "import gdown\n",
        "import zipfile\n",
        "import os\n",
        "from PIL import Image\n",
        "import numpy as np\n",
        "\n",
        "\n",
        "# مرحله 2: اکسترکت کردن فایل زیپ\n",
        "with zipfile.ZipFile(output, 'r') as zip_ref:\n",
        "    zip_ref.extractall('/content/extracted_data')\n",
        "\n",
        "# مرحله 3: خواندن تصاویر از پوشه‌های مختلف\n",
        "def load_images_from_folder(folder):\n",
        "    images = []\n",
        "    for filename in os.listdir(folder):\n",
        "        img_path = os.path.join(folder, filename)\n",
        "        if os.path.isfile(img_path) and img_path.endswith(('png', 'jpg', 'jpeg')):\n",
        "            img = Image.open(img_path)\n",
        "            images.append(np.array(img))\n",
        "    return images\n",
        "\n",
        "# آدرس پوشه اکسترکت شده\n",
        "root_folder = '/content/extracted_data'\n",
        "\n",
        "# ایجاد یک دیکشنری برای ذخیره تصاویر از هر پوشه\n",
        "data = {}\n",
        "for subdir in os.listdir(root_folder):\n",
        "    subdir_path = os.path.join(root_folder, subdir)\n",
        "    if os.path.isdir(subdir_path):\n",
        "        print(f'Loading images from folder: {subdir}')\n",
        "        data[subdir] = load_images_from_folder(subdir_path)\n",
        "\n",
        "# حالا می‌توانید داده‌ها را استفاده کنید\n",
        "for category, images in data.items():\n",
        "    print(f'Category: {category}, Number of images: {len(images)}')\n"
      ]
    },
    {
      "cell_type": "code",
      "source": [
        "!ls '/content/'\n",
        "!ls '/content/extracted_data/train/'\n"
      ],
      "metadata": {
        "colab": {
          "base_uri": "https://localhost:8080/"
        },
        "id": "u51PLpDpm_WN",
        "outputId": "602fc5a4-4468-43fb-b6e7-ae410eed9187"
      },
      "execution_count": 2,
      "outputs": [
        {
          "output_type": "stream",
          "name": "stdout",
          "text": [
            "extracted_data\tsample_data  train.zip\n",
            "baked_potato  cheesecake       chicken_curry   eggs\tfrench_fries  ice_cream  pizza\t    sushi\n",
            "baklava       cheese_sandwich  chocolate_cake  falafel\thamburger     lasagna\t spaghetti\n",
            "caesar_salad  chicken\t       donuts\t       fish\thot_dog       omelette\t steak\n"
          ]
        }
      ]
    }
  ]
}